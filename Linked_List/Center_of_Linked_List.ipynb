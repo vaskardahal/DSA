{
 "cells": [
  {
   "cell_type": "markdown",
   "id": "577b4506",
   "metadata": {},
   "source": [
    "First let's import the necessary Data Structures."
   ]
  },
  {
   "cell_type": "code",
   "execution_count": 1,
   "id": "d8a120cc",
   "metadata": {},
   "outputs": [],
   "source": [
    "import os\n",
    "import sys\n",
    "\n",
    "PROJECT_ROOT = os.path.abspath(\n",
    "                    os.path.join(\n",
    "                        os.path.dirname(\"__file__\"), \n",
    "                        os.pardir\n",
    "                    )\n",
    "                )\n",
    "sys.path.append(PROJECT_ROOT)\n",
    "\n",
    "from DataStructures import *"
   ]
  },
  {
   "cell_type": "code",
   "execution_count": null,
   "id": "725e86d4",
   "metadata": {},
   "outputs": [],
   "source": []
  }
 ],
 "metadata": {
  "kernelspec": {
   "display_name": "Python 3 (ipykernel)",
   "language": "python",
   "name": "python3"
  },
  "language_info": {
   "codemirror_mode": {
    "name": "ipython",
    "version": 3
   },
   "file_extension": ".py",
   "mimetype": "text/x-python",
   "name": "python",
   "nbconvert_exporter": "python",
   "pygments_lexer": "ipython3",
   "version": "3.9.7"
  }
 },
 "nbformat": 4,
 "nbformat_minor": 5
}
