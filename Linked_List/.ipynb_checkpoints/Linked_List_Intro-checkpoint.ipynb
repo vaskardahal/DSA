{
 "cells": [
  {
   "cell_type": "markdown",
   "id": "062f8e88",
   "metadata": {},
   "source": [
    "Linked Lists are rather a curious affair, because we never really define a Linked List data structure. What we define instead is a Node data structure and chain the Nodes together to form Linked List."
   ]
  },
  {
   "cell_type": "code",
   "execution_count": 28,
   "id": "5fa46fb4",
   "metadata": {},
   "outputs": [],
   "source": [
    "class Node:\n",
    "    def __init__(self, val=0, next=None) -> None:\n",
    "        self.val = val\n",
    "        self.next = None"
   ]
  },
  {
   "cell_type": "code",
   "execution_count": 46,
   "id": "564fc796",
   "metadata": {},
   "outputs": [],
   "source": [
    "class LinkedList:\n",
    "    def __init__(self) -> None:\n",
    "        self.head = None\n",
    "        \n",
    "    def addNode(self, value) -> None:\n",
    "        if self.head is None:\n",
    "            self.head = Node(value)\n",
    "            return\n",
    "        head = self.head\n",
    "        while head.next:\n",
    "            head = head.next\n",
    "        head.next = Node(value)\n",
    "        return\n",
    "            \n",
    "    def __str__(self) -> None:\n",
    "        print(\"Linked List:\")\n",
    "        head = self.head\n",
    "        while head:\n",
    "            print (f\"{head.val}\", end=\"\")\n",
    "            head = head.next\n",
    "            if head:\n",
    "                print(f\" -> \", end=\"\")\n",
    "        return \"\\n\""
   ]
  },
  {
   "cell_type": "markdown",
   "id": "2f2bb321",
   "metadata": {},
   "source": [
    "An example of Linked List:"
   ]
  },
  {
   "cell_type": "code",
   "execution_count": 47,
   "id": "6a3924c7",
   "metadata": {},
   "outputs": [
    {
     "name": "stdout",
     "output_type": "stream",
     "text": [
      "Linked List:\n",
      "2 -> 7 -> 3 -> 4 -> 2\n",
      "\n"
     ]
    }
   ],
   "source": [
    "values = [2, 7, 3, 4, 2]\n",
    "ll = LinkedList()\n",
    "for val in values:\n",
    "    ll.addNode(val)\n",
    "print(ll)"
   ]
  },
  {
   "cell_type": "code",
   "execution_count": null,
   "id": "b83093a0",
   "metadata": {},
   "outputs": [],
   "source": []
  }
 ],
 "metadata": {
  "kernelspec": {
   "display_name": "Python 3 (ipykernel)",
   "language": "python",
   "name": "python3"
  },
  "language_info": {
   "codemirror_mode": {
    "name": "ipython",
    "version": 3
   },
   "file_extension": ".py",
   "mimetype": "text/x-python",
   "name": "python",
   "nbconvert_exporter": "python",
   "pygments_lexer": "ipython3",
   "version": "3.9.7"
  }
 },
 "nbformat": 4,
 "nbformat_minor": 5
}
