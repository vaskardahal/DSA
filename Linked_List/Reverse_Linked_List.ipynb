{
 "cells": [
  {
   "cell_type": "markdown",
   "id": "5c10daa5",
   "metadata": {},
   "source": [
    "First let's import the necessary [Data Structures](https://towardsdatascience.com/understanding-python-imports-init-py-and-pythonpath-once-and-for-all-4c5249ab6355). \n"
   ]
  },
  {
   "cell_type": "code",
   "execution_count": 28,
   "id": "e446312a",
   "metadata": {},
   "outputs": [],
   "source": [
    "import os\n",
    "import sys\n",
    "\n",
    "PROJECT_ROOT = os.path.abspath(os.path.join(\n",
    "                    os.path.dirname(\"__file__\"), \n",
    "                    os.pardir)\n",
    "                )\n",
    "sys.path.append(PROJECT_ROOT)"
   ]
  },
  {
   "cell_type": "code",
   "execution_count": 30,
   "id": "4b39ff63",
   "metadata": {},
   "outputs": [],
   "source": [
    "import DataStructures"
   ]
  },
  {
   "cell_type": "code",
   "execution_count": 41,
   "id": "d31c8882",
   "metadata": {},
   "outputs": [
    {
     "data": {
      "text/plain": [
       "'G:\\\\My Drive\\\\10_SELF_LEARNING\\\\REPOS\\\\DSA'"
      ]
     },
     "execution_count": 41,
     "metadata": {},
     "output_type": "execute_result"
    }
   ],
   "source": [
    "os.path.abspath(os.path.join(\n",
    "                    os.getcwd(), \n",
    "                    os.pardir)\n",
    "                )"
   ]
  },
  {
   "cell_type": "code",
   "execution_count": 46,
   "id": "8670a08b",
   "metadata": {},
   "outputs": [
    {
     "data": {
      "text/plain": [
       "'G:\\\\My Drive\\\\10_SELF_LEARNING\\\\REPOS\\\\DSA'"
      ]
     },
     "execution_count": 46,
     "metadata": {},
     "output_type": "execute_result"
    }
   ],
   "source": [
    "os.path.abspath(os.path.join(os.getcwd(), \"..\\\\\"))"
   ]
  },
  {
   "cell_type": "code",
   "execution_count": null,
   "id": "983d2871",
   "metadata": {},
   "outputs": [],
   "source": []
  }
 ],
 "metadata": {
  "kernelspec": {
   "display_name": "Python 3 (ipykernel)",
   "language": "python",
   "name": "python3"
  },
  "language_info": {
   "codemirror_mode": {
    "name": "ipython",
    "version": 3
   },
   "file_extension": ".py",
   "mimetype": "text/x-python",
   "name": "python",
   "nbconvert_exporter": "python",
   "pygments_lexer": "ipython3",
   "version": "3.9.7"
  }
 },
 "nbformat": 4,
 "nbformat_minor": 5
}
