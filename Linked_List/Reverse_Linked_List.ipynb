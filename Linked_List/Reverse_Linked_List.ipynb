{
 "cells": [
  {
   "cell_type": "markdown",
   "id": "8dda22af",
   "metadata": {},
   "source": [
    "First let's import the necessary [Data Structures](https://towardsdatascience.com/understanding-python-imports-init-py-and-pythonpath-once-and-for-all-4c5249ab6355). \n"
   ]
  },
  {
   "cell_type": "code",
   "execution_count": 60,
   "id": "e446312a",
   "metadata": {},
   "outputs": [],
   "source": [
    "import os\n",
    "import sys\n",
    "\n",
    "PROJECT_ROOT = os.path.abspath(\n",
    "                    os.path.join(\n",
    "                        os.path.dirname(\"__file__\"), \n",
    "                        os.pardir\n",
    "                    )\n",
    "                )\n",
    "sys.path.append(PROJECT_ROOT)"
   ]
  },
  {
   "cell_type": "code",
   "execution_count": 61,
   "id": "4b39ff63",
   "metadata": {},
   "outputs": [],
   "source": [
    "from DataStructures import *"
   ]
  },
  {
   "cell_type": "markdown",
   "id": "e152d346",
   "metadata": {},
   "source": [
    "Let's first define a Linked List."
   ]
  },
  {
   "cell_type": "code",
   "execution_count": 87,
   "id": "33c75979",
   "metadata": {},
   "outputs": [
    {
     "name": "stdout",
     "output_type": "stream",
     "text": [
      "Linked List:\n",
      "4 -> 7 -> 3 -> 6 -> 8\n",
      "\n"
     ]
    }
   ],
   "source": [
    "values = [4, 7, 3, 6, 8]\n",
    "ll = LinkedList()\n",
    "for val in values:\n",
    "    ll.addNode(val)\n",
    "print(ll)"
   ]
  },
  {
   "cell_type": "markdown",
   "id": "19cab3eb",
   "metadata": {},
   "source": [
    "### Reversal by Iteration"
   ]
  },
  {
   "cell_type": "code",
   "execution_count": 76,
   "id": "16245215",
   "metadata": {},
   "outputs": [
    {
     "name": "stdout",
     "output_type": "stream",
     "text": [
      "Linked List:\n",
      "8 -> 6 -> 3 -> 7 -> 4\n",
      "\n"
     ]
    }
   ],
   "source": [
    "p0 = None\n",
    "p1 = ll.head\n",
    "while p1:\n",
    "    previous = p1\n",
    "    p1 = p1.next\n",
    "    previous.next = p0\n",
    "    p0 = previous\n",
    "ll.head = p0\n",
    "print(ll)"
   ]
  },
  {
   "cell_type": "markdown",
   "id": "71705506",
   "metadata": {},
   "source": [
    "### Reversal by Recursion"
   ]
  },
  {
   "cell_type": "code",
   "execution_count": 77,
   "id": "f609332c",
   "metadata": {},
   "outputs": [],
   "source": [
    "def reverseUtil(current, previous=None):\n",
    "    if current.next is None:\n",
    "        ll.head = current\n",
    "        ll.head.next = previous\n",
    "        return ll.head\n",
    "\n",
    "    nextNode = current.next\n",
    "    current.next = previous\n",
    "    return reverseUtil(nextNode, current)"
   ]
  },
  {
   "cell_type": "code",
   "execution_count": 91,
   "id": "afd13e63",
   "metadata": {},
   "outputs": [
    {
     "name": "stdout",
     "output_type": "stream",
     "text": [
      "Linked List:\n",
      "8 -> 6 -> 3 -> 7 -> 4\n",
      "\n"
     ]
    }
   ],
   "source": [
    "ll.head = reverseUtil(ll.head, None)\n",
    "print(ll)"
   ]
  },
  {
   "cell_type": "markdown",
   "id": "4963ecdf",
   "metadata": {},
   "source": [
    "### Is Linked List a Palindrome?\n",
    "One of the major application of knowing how to reverse a Linked List is to determine if a Linked List is a palindrome or not. "
   ]
  },
  {
   "cell_type": "code",
   "execution_count": 92,
   "id": "a18d2919",
   "metadata": {},
   "outputs": [],
   "source": [
    "def isPalindrome(current, head):\n",
    "    if current.next is None:\n",
    "        return (current.val == head.val, head.next)\n",
    "    \n",
    "    is_palindrome, node_to_compare = isPalindrome(current.next, head)\n",
    "    return (current.val == node_to_compare.val, node_to_compare.next)"
   ]
  },
  {
   "cell_type": "code",
   "execution_count": 93,
   "id": "cf608b76",
   "metadata": {},
   "outputs": [
    {
     "data": {
      "text/plain": [
       "False"
      ]
     },
     "execution_count": 93,
     "metadata": {},
     "output_type": "execute_result"
    }
   ],
   "source": [
    "is_palindrome, _ = isPalindrome(ll.head, ll.head)\n",
    "is_palindrome"
   ]
  },
  {
   "cell_type": "code",
   "execution_count": 94,
   "id": "01c5aeee",
   "metadata": {},
   "outputs": [
    {
     "name": "stdout",
     "output_type": "stream",
     "text": [
      "Linked List:\n",
      "7 -> 9 -> 6 -> 13 -> 15 -> 15 -> 13 -> 6 -> 9 -> 7\n",
      "\n"
     ]
    }
   ],
   "source": [
    "values = [7, 9, 6, 13, 15, 15, 13, 6, 9, 7]\n",
    "ll_mirror = LinkedList()\n",
    "for val in values:\n",
    "    ll_mirror.addNode(val)\n",
    "print(ll_mirror)"
   ]
  },
  {
   "cell_type": "code",
   "execution_count": 95,
   "id": "f5f8eb6c",
   "metadata": {},
   "outputs": [
    {
     "data": {
      "text/plain": [
       "True"
      ]
     },
     "execution_count": 95,
     "metadata": {},
     "output_type": "execute_result"
    }
   ],
   "source": [
    "head = ll_mirror.head\n",
    "is_palindrome, _ = isPalindrome(head, head)\n",
    "is_palindrome"
   ]
  },
  {
   "cell_type": "code",
   "execution_count": null,
   "id": "c516d5e9",
   "metadata": {},
   "outputs": [],
   "source": []
  }
 ],
 "metadata": {
  "kernelspec": {
   "display_name": "Python 3 (ipykernel)",
   "language": "python",
   "name": "python3"
  },
  "language_info": {
   "codemirror_mode": {
    "name": "ipython",
    "version": 3
   },
   "file_extension": ".py",
   "mimetype": "text/x-python",
   "name": "python",
   "nbconvert_exporter": "python",
   "pygments_lexer": "ipython3",
   "version": "3.9.7"
  }
 },
 "nbformat": 4,
 "nbformat_minor": 5
}
