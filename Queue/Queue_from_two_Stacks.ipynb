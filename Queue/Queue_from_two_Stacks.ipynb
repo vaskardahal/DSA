{
 "cells": [
  {
   "cell_type": "code",
   "execution_count": 2,
   "id": "2e251036",
   "metadata": {},
   "outputs": [],
   "source": [
    "import os\n",
    "import sys\n",
    "\n",
    "PROJECT_ROOT = os.path.abspath(\n",
    "                    os.path.join(\n",
    "                        os.path.dirname(\"__file__\"), \n",
    "                        os.pardir\n",
    "                    )\n",
    "                )\n",
    "sys.path.append(PROJECT_ROOT)\n",
    "from DataStructures import *"
   ]
  },
  {
   "cell_type": "markdown",
   "id": "db4c2881",
   "metadata": {},
   "source": [
    "A very naive way to implement a Queue using two Stacks is to store the data in the first Stack (called `firstStack`). All the Enqueue operations of the Queue are the same as Push operation to the top of the Stack. For the Dequeue of the first element, the data is Popped out of the `firstStack` and Pushed into the second Stack (called `secondStack`). This operation of basically moves the first element of the Queue to the top of the `secondStack`, and it can just be Popped out. After that, the elements are Popped out of the `secondStack` and Pushed into the `firstStack` to reestablish the Queue.\n",
    "\n",
    "But this method involves a lot of redundant work, . There is a more efficient way of doing this same thing - after the first Dequeue operation, hold the elements in the `secondStack`, and only move them back to `firstStack` when an Enqueue operation has to be executed.This requires first checking if the elements are in `firstStack` or if they are in `secondStack`. \n",
    "\n",
    "Now, let's implement this second method. "
   ]
  },
  {
   "cell_type": "code",
   "execution_count": 3,
   "id": "eaaa0803",
   "metadata": {},
   "outputs": [],
   "source": [
    "class Queue: \n",
    "    \n",
    "    def __init__(self, capacity): \n",
    "        self.firstStack = []\n",
    "        self.secondStack = []\n",
    "        self.size = capacity\n",
    "        self.firstSize = 0\n",
    "        self.secondSize = 0\n",
    "        \n",
    "    def isFirstFull(self):\n",
    "        return self.firstSize == self.size\n",
    "    \n",
    "    def isSecondFull(self):\n",
    "        return self.secondSize == self.size\n",
    "    \n",
    "    def Enqueue(self, data):\n",
    "        if self.secondSize:\n",
    "            while self.secondSize:\n",
    "                self.firstStack.append(self.secondStack.pop())\n",
    "                self.firstSize += 1\n",
    "                self.secondSize -= 1\n",
    "            \n",
    "        if not isFirstFull():\n",
    "            self.firstStack.append(data)\n",
    "            self.firstSize += 1\n",
    "        else:\n",
    "            print(\"Queue is full\")\n",
    "\n",
    "            \n",
    "    def Dequeue(self):\n",
    "        if self.firstSize:\n",
    "            while self.firstSize:\n",
    "                self.secondStack.append(self.firstStack.pop())\n",
    "                self.firstSize -= 1\n",
    "                self.secondSize += 1\n",
    "            \n",
    "        if self.secondSize:\n",
    "            value = self.secondStack.pop()\n",
    "            self.secondSize -= 1\n",
    "            return value\n",
    "        else:\n",
    "            print(\"Queue is empty\")"
   ]
  }
 ],
 "metadata": {
  "kernelspec": {
   "display_name": "Python 3",
   "language": "python",
   "name": "python3"
  },
  "language_info": {
   "codemirror_mode": {
    "name": "ipython",
    "version": 3
   },
   "file_extension": ".py",
   "mimetype": "text/x-python",
   "name": "python",
   "nbconvert_exporter": "python",
   "pygments_lexer": "ipython3",
   "version": "3.9.5"
  }
 },
 "nbformat": 4,
 "nbformat_minor": 5
}
