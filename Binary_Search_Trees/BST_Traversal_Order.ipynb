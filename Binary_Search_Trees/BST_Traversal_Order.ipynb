{
 "cells": [
  {
   "cell_type": "markdown",
   "id": "1360bb6b",
   "metadata": {},
   "source": [
    "There are three traversal orders during the Breadth First Search (BFS) of the Binary Search Tree (BST). They are: \n",
    "1. Pre-order Traversal\n",
    "2. In-order Traversal\n",
    "3. Post-order Traversal\n",
    "Let's look at these three traversal methods through an example. The example BST is given below: \n",
    "                                            6\n",
    "                                          /   \\\n",
    "                                         /     \\\n",
    "                                        /       \\\n",
    "                                       1         8\n",
    "                                      / \\       / \\\n",
    "                                     /   \\     /   \\\n",
    "                                    0     3   7    10\n",
    "                                         / \\       /  \n",
    "                                        /   \\     /    \n",
    "                                       2     5   9     \n",
    "                                            / \n",
    "                                           /   \n",
    "                                          4     "
   ]
  },
  {
   "cell_type": "markdown",
   "id": "c47a6ad2",
   "metadata": {},
   "source": [
    "**Pre-order traversal**: \n",
    "* Traversal sequence: 6 -> 1 -> 0 -> 3 -> 2 -> 5 -> 4 -> 8 -> 7 -> 10 -> 9\n",
    "* Traversal pattern: It is a top-down recursive traversal approach. If the roots need to be explored before moving on to the leaves.\n",
    "* Use case: Used to create a replica of a tree. Also used to print out the hierarchical format of the tree in a linear format. \n",
    "\n",
    "**In-order traversal**: \n",
    "* Traversal sequence: 0 -> 1 -> 2 -> 3 -> 4 -> 5 -> 6 -> 7 -> 8 -> 9 -> 10\n",
    "* Traversal pattern: If the tree has to be flattened into its original sequence. Unwinds the tree back into the sequence which was used to create it. \n",
    "* Use case: Used to get the value of the nodes in a non-decreasing order.\n",
    "\n",
    "**Post-order traversal**: \n",
    "* Traversal sequence: 0 -> 2 -> 4 -> 5 -> 3 -> 1 -> 7 -> 9 -> 10 -> 8 -> 6\n",
    "* Traversal pattern: It is a bottom-up recursive traversal approach. If all the leaves need to be explored before. \n",
    "* Use case: Used to delete a tree from leaf to root. "
   ]
  },
  {
   "cell_type": "code",
   "execution_count": null,
   "id": "36b57b0d",
   "metadata": {},
   "outputs": [],
   "source": []
  }
 ],
 "metadata": {
  "kernelspec": {
   "display_name": "Python 3",
   "language": "python",
   "name": "python3"
  },
  "language_info": {
   "codemirror_mode": {
    "name": "ipython",
    "version": 3
   },
   "file_extension": ".py",
   "mimetype": "text/x-python",
   "name": "python",
   "nbconvert_exporter": "python",
   "pygments_lexer": "ipython3",
   "version": "3.9.5"
  }
 },
 "nbformat": 4,
 "nbformat_minor": 5
}
