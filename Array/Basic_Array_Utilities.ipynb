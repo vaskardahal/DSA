{
 "cells": [
  {
   "cell_type": "markdown",
   "id": "b07fc049",
   "metadata": {},
   "source": [
    "## Introduction\n",
    "\n",
    "Various array actions are discussed in this chapter. These array actions are used regularly in various array-based algorithms as utility tools. We will be using a list data structure for representing array A. "
   ]
  },
  {
   "cell_type": "code",
   "execution_count": 29,
   "id": "96e08547",
   "metadata": {},
   "outputs": [
    {
     "name": "stdout",
     "output_type": "stream",
     "text": [
      "[21, 10, 3, 15, 7, 19, 9, 2]\n"
     ]
    }
   ],
   "source": [
    "A = [21, 10, 3, 15, 7, 19, 9, 2 ]\n",
    "print(A)"
   ]
  },
  {
   "cell_type": "markdown",
   "id": "fd3a6246",
   "metadata": {},
   "source": [
    "## Reversing an Array\n",
    "\n",
    "Two pointer method can be used for reversing an array in-place. The method is O(n) in time complexity and O(1) in space complexity."
   ]
  },
  {
   "cell_type": "code",
   "execution_count": 5,
   "id": "ba897eda",
   "metadata": {},
   "outputs": [],
   "source": [
    "def reverse(arr):\n",
    "    print(\"Before Reversal: \", arr)\n",
    "    pointer1 = 0\n",
    "    pointer2 = len(arr) - 1\n",
    "    while pointer1 <= pointer2:\n",
    "        arr[pointer1] = arr[pointer1] ^ arr[pointer2]\n",
    "        arr[pointer2] = arr[pointer1] ^ arr[pointer2]\n",
    "        arr[pointer1] = arr[pointer1] ^ arr[pointer2]\n",
    "        pointer1 += 1\n",
    "        pointer2 -= 1\n",
    "    print (\"After Reversal: \", arr)"
   ]
  },
  {
   "cell_type": "code",
   "execution_count": 6,
   "id": "86e5fbab",
   "metadata": {},
   "outputs": [
    {
     "name": "stdout",
     "output_type": "stream",
     "text": [
      "Before Reversal:  [21, 10, 3, 15, 7, 19, 9, 2]\n",
      "After Reversal:  [2, 9, 19, 7, 15, 3, 10, 21]\n",
      "Reverse back the reversed A2:\n",
      "Before Reversal:  [2, 9, 19, 7, 15, 3, 10, 21]\n",
      "After Reversal:  [21, 10, 3, 15, 7, 19, 9, 2]\n"
     ]
    }
   ],
   "source": [
    "A2 = A.copy()\n",
    "reverse(A2)\n",
    "print(\"Reverse back the reversed A2:\")\n",
    "reverse(A2)"
   ]
  },
  {
   "cell_type": "markdown",
   "id": "63ec5c51",
   "metadata": {},
   "source": [
    "## Binary search in a sorted Array"
   ]
  },
  {
   "cell_type": "code",
   "execution_count": 12,
   "id": "4eb80e06",
   "metadata": {},
   "outputs": [],
   "source": [
    "def binarySearch(array, target):\n",
    "    \n",
    "    def binarySearchUtil(start, end):\n",
    "        if start > end:\n",
    "            return -1\n",
    "        mid = start + (end-start)//2\n",
    "        if target < array[mid]:\n",
    "            return binarySearchUtil(start, mid-1)\n",
    "        elif target > array[mid]:\n",
    "            return binarySearchUtil(mid+1, end)\n",
    "        else:\n",
    "            return mid\n",
    "        \n",
    "    return binarySearchUtil(0, len(array)-1)"
   ]
  },
  {
   "cell_type": "code",
   "execution_count": 35,
   "id": "f02c352e",
   "metadata": {},
   "outputs": [
    {
     "name": "stdout",
     "output_type": "stream",
     "text": [
      "0\n",
      "7\n",
      "4\n"
     ]
    }
   ],
   "source": [
    "Asort = sorted(A)\n",
    "print(binarySearch(Asort, 2))\n",
    "print(binarySearch(Asort, 21))\n",
    "print(binarySearch(Asort, 10))"
   ]
  },
  {
   "cell_type": "markdown",
   "id": "26547014",
   "metadata": {},
   "source": [
    "## Check if an Array is sorted or not"
   ]
  },
  {
   "cell_type": "code",
   "execution_count": 36,
   "id": "59fe5de3",
   "metadata": {},
   "outputs": [],
   "source": [
    "def checkSorted(array):\n",
    "    \n",
    "    def checkSortedUtil(n):\n",
    "        if n == 0:\n",
    "            return True\n",
    "        return (array[n-1] < array[n]) & checkSortedUtil(n-1)\n",
    "    \n",
    "    return checkSortedUtil(len(array)-1)"
   ]
  },
  {
   "cell_type": "code",
   "execution_count": 37,
   "id": "c3dfeff0",
   "metadata": {},
   "outputs": [
    {
     "name": "stdout",
     "output_type": "stream",
     "text": [
      "False\n",
      "True\n"
     ]
    }
   ],
   "source": [
    "print(checkSorted(A))\n",
    "print(checkSorted(Asort))"
   ]
  },
  {
   "cell_type": "code",
   "execution_count": null,
   "id": "ddbbf393",
   "metadata": {},
   "outputs": [],
   "source": []
  }
 ],
 "metadata": {
  "kernelspec": {
   "display_name": "Python 3",
   "language": "python",
   "name": "python3"
  },
  "language_info": {
   "codemirror_mode": {
    "name": "ipython",
    "version": 3
   },
   "file_extension": ".py",
   "mimetype": "text/x-python",
   "name": "python",
   "nbconvert_exporter": "python",
   "pygments_lexer": "ipython3",
   "version": "3.9.5"
  }
 },
 "nbformat": 4,
 "nbformat_minor": 5
}
