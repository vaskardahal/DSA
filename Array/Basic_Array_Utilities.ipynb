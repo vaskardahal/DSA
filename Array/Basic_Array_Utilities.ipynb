{
 "cells": [
  {
   "cell_type": "markdown",
   "id": "b07fc049",
   "metadata": {},
   "source": [
    "## Introduction\n",
    "\n",
    "Various array actions are discussed in this chapter. These array actions are used regularly in various array-based algorithms as utility tools. We will be using a list data structure for representing array A. "
   ]
  },
  {
   "cell_type": "code",
   "execution_count": 3,
   "id": "96e08547",
   "metadata": {},
   "outputs": [
    {
     "name": "stdout",
     "output_type": "stream",
     "text": [
      "[21, 10, 3, 15, 7, 19, 9, 2]\n"
     ]
    }
   ],
   "source": [
    "A = [21, 10, 3, 15, 7, 19, 9, 2 ]\n",
    "print(A)"
   ]
  },
  {
   "cell_type": "markdown",
   "id": "fd3a6246",
   "metadata": {},
   "source": [
    "## Reversing an Array\n",
    "\n",
    "Two pointer method can be used for reversing an array in-place. The method is O(n) in time complexity and O(1) in space complexity."
   ]
  },
  {
   "cell_type": "code",
   "execution_count": 5,
   "id": "ba897eda",
   "metadata": {},
   "outputs": [],
   "source": [
    "def reverse(arr):\n",
    "    print(\"Before Reversal: \", arr)\n",
    "    pointer1 = 0\n",
    "    pointer2 = len(arr) - 1\n",
    "    while pointer1 <= pointer2:\n",
    "        arr[pointer1] = arr[pointer1] ^ arr[pointer2]\n",
    "        arr[pointer2] = arr[pointer1] ^ arr[pointer2]\n",
    "        arr[pointer1] = arr[pointer1] ^ arr[pointer2]\n",
    "        pointer1 += 1\n",
    "        pointer2 -= 1\n",
    "    print (\"After Reversal: \", arr)"
   ]
  },
  {
   "cell_type": "code",
   "execution_count": 8,
   "id": "86e5fbab",
   "metadata": {},
   "outputs": [
    {
     "name": "stdout",
     "output_type": "stream",
     "text": [
      "Before Reversal:  [2, 9, 19, 7, 15, 3, 10, 21]\n",
      "After Reversal:  [21, 10, 3, 15, 7, 19, 9, 2]\n",
      "Reverse back the reversed A:\n",
      "Before Reversal:  [21, 10, 3, 15, 7, 19, 9, 2]\n",
      "After Reversal:  [2, 9, 19, 7, 15, 3, 10, 21]\n"
     ]
    }
   ],
   "source": [
    "reverse(A)\n",
    "print(\"Reverse back the reversed A:\")\n",
    "reverse(A)"
   ]
  },
  {
   "cell_type": "code",
   "execution_count": 7,
   "id": "8ea4d3c8",
   "metadata": {},
   "outputs": [
    {
     "data": {
      "text/plain": [
       "[2, 9, 19, 7, 15, 3, 10, 21]"
      ]
     },
     "execution_count": 7,
     "metadata": {},
     "output_type": "execute_result"
    }
   ],
   "source": [
    "A"
   ]
  },
  {
   "cell_type": "code",
   "execution_count": null,
   "id": "4eb80e06",
   "metadata": {},
   "outputs": [],
   "source": []
  }
 ],
 "metadata": {
  "kernelspec": {
   "display_name": "Python 3",
   "language": "python",
   "name": "python3"
  },
  "language_info": {
   "codemirror_mode": {
    "name": "ipython",
    "version": 3
   },
   "file_extension": ".py",
   "mimetype": "text/x-python",
   "name": "python",
   "nbconvert_exporter": "python",
   "pygments_lexer": "ipython3",
   "version": "3.9.5"
  }
 },
 "nbformat": 4,
 "nbformat_minor": 5
}
