{
 "cells": [
  {
   "cell_type": "markdown",
   "id": "bd38ad6f",
   "metadata": {},
   "source": [
    "# QuickSort"
   ]
  },
  {
   "cell_type": "markdown",
   "id": "ef98ab1a",
   "metadata": {},
   "source": [
    "QuickSort algorithm was invented by Tony Hoare.\n",
    "The algorithm basically selects a pivot element and then identifies its sorted position (or index). \n",
    "\n",
    "Time Complexity: \n",
    "* $O(nlogn)$ in average case scenario. \n",
    "* $O(n^2)$ in average case scenario. \n",
    "\n",
    "Space Complexity: \n",
    "* $O(1) because it is an in-place sorting algorithm. \n",
    "\n",
    "Stability: \n",
    "* QuickSort is an unstable algorithm because previously sorted element/value may not stay in its position (this occurs when there are duplicate numbers). "
   ]
  },
  {
   "cell_type": "code",
   "execution_count": 73,
   "id": "8bd7e3cc",
   "metadata": {},
   "outputs": [],
   "source": [
    "A = [7, 3, 8, 2, 6, 4]"
   ]
  },
  {
   "cell_type": "code",
   "execution_count": 76,
   "id": "2a9a390d",
   "metadata": {},
   "outputs": [
    {
     "name": "stdout",
     "output_type": "stream",
     "text": [
      "[7, 3, 8, 2, 6, 4]\n",
      "[2, 3, 4, 6, 7, 8]\n"
     ]
    }
   ],
   "source": [
    "def quicksort(arr, head, tail):\n",
    "    if head >= tail: \n",
    "        return\n",
    "    start, end = head, tail\n",
    "    mid = start + (end - start)//2\n",
    "    pivot = arr[mid]\n",
    "    while start <= end:\n",
    "        while arr[start] < pivot:\n",
    "            start += 1\n",
    "        while arr[end] > pivot:\n",
    "            end -= 1\n",
    "        if start <= end:\n",
    "            temp = arr[start]\n",
    "            arr[start] = arr[end]\n",
    "            arr[end] = temp\n",
    "            start += 1\n",
    "            end -= 1\n",
    "    quicksort(arr, head, end)\n",
    "    quicksort(arr, start, tail)\n",
    "\n",
    "A2 = A.copy()\n",
    "print(A2)\n",
    "quicksort(A2, 0, len(A2)-1)\n",
    "print(A2)"
   ]
  },
  {
   "cell_type": "markdown",
   "id": "ce09fafa",
   "metadata": {},
   "source": [
    "A slight variant of the quick sort implementation executed above is to first determine the partition index that segregates the values smaller than the pivot value in the left side of the index and the values greater than the pivot value in the right side of the index. After that carry out divide and conquer on either side of the partition index."
   ]
  },
  {
   "cell_type": "code",
   "execution_count": 85,
   "id": "cf9a97f0",
   "metadata": {},
   "outputs": [
    {
     "name": "stdout",
     "output_type": "stream",
     "text": [
      "[7, 3, 8, 2, 6, 4]\n",
      "[2, 3, 4, 6, 7, 8]\n"
     ]
    }
   ],
   "source": [
    "def partition(arr, head, tail):    \n",
    "    start, end = head, tail\n",
    "    mid = head + (tail - head)//2\n",
    "    pivot_index = head\n",
    "    pivot = arr[pivot_index]\n",
    "    while start < end:\n",
    "        while arr[start] <= pivot:\n",
    "            start += 1\n",
    "        while arr[end] > pivot:\n",
    "            end -= 1\n",
    "        if start <= end:\n",
    "            temp = arr[start]\n",
    "            arr[start] = arr[end]\n",
    "            arr[end] = temp\n",
    "    arr[pivot_index], arr[end] = arr[end], pivot\n",
    "    return end\n",
    "        \n",
    "\n",
    "\n",
    "def quicksort(arr, low, high):\n",
    "    if low < high: \n",
    "        pivot_index = partition(arr, low, high)\n",
    "        quicksort(arr, low, pivot_index-1)\n",
    "        quicksort(arr, pivot_index+1, high)\n",
    "    \n",
    "A3 = A.copy()\n",
    "print(A3)\n",
    "quicksort(A3, 0, len(A3)-1)\n",
    "print(A3)"
   ]
  },
  {
   "cell_type": "markdown",
   "id": "190c8315",
   "metadata": {},
   "source": [
    "One advantage of finding the partition index is that this method can be used for another task - finding $k^{th}$ largest or smallest element in an array. Due to its ties to the partitioning method, the algorithm is called **Quick Select Algorithm**. \n",
    "\n",
    "Using the `partition()` function created above, let's implement the Quick Select Algorithm for finding the $k^{th}$ smallest element.  "
   ]
  },
  {
   "cell_type": "code",
   "execution_count": 95,
   "id": "dbbd368e",
   "metadata": {},
   "outputs": [
    {
     "name": "stdout",
     "output_type": "stream",
     "text": [
      "6th smallest element:8\n"
     ]
    }
   ],
   "source": [
    "def quickselect(arr, k, low, high):\n",
    "        pivot_index = partition(arr, low, high)\n",
    "\n",
    "        if pivot_index > k-1:\n",
    "            quickselect(arr, k, low, pivot_index-1)\n",
    "        elif pivot_index < k-1:\n",
    "            quickselect(arr, k, pivot_index+1, high)\n",
    "        else:\n",
    "            print(f'{pivot_index+1}th smallest element:{arr[pivot_index]}')\n",
    "            return arr[pivot_index]\n",
    "            \n",
    "        \n",
    "A4 = A.copy()\n",
    "quickselect(A4, 6, 0, len(A4)-1)"
   ]
  },
  {
   "cell_type": "code",
   "execution_count": null,
   "id": "29981160",
   "metadata": {},
   "outputs": [],
   "source": []
  }
 ],
 "metadata": {
  "kernelspec": {
   "display_name": "Python 3",
   "language": "python",
   "name": "python3"
  },
  "language_info": {
   "codemirror_mode": {
    "name": "ipython",
    "version": 3
   },
   "file_extension": ".py",
   "mimetype": "text/x-python",
   "name": "python",
   "nbconvert_exporter": "python",
   "pygments_lexer": "ipython3",
   "version": "3.9.5"
  }
 },
 "nbformat": 4,
 "nbformat_minor": 5
}
