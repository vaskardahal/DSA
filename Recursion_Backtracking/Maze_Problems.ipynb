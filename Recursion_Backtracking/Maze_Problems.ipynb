{
 "cells": [
  {
   "cell_type": "markdown",
   "id": "1a15cfe5",
   "metadata": {},
   "source": [
    " #### Question 1: How many pathways from (0,0) to (n, k) in a grid given that you can only move right or down? "
   ]
  },
  {
   "cell_type": "code",
   "execution_count": 31,
   "id": "d66e9220",
   "metadata": {},
   "outputs": [
    {
     "data": {
      "text/plain": [
       "6"
      ]
     },
     "execution_count": 31,
     "metadata": {},
     "output_type": "execute_result"
    }
   ],
   "source": [
    "def travel(n, k):\n",
    "    \n",
    "    if (n == 0)  | (k == 0):\n",
    "        return 1\n",
    "\n",
    "    down = travel(n-1, k)\n",
    "    right = travel(n, k-1)\n",
    "        \n",
    "    return down + right\n",
    " \n",
    "\n",
    "travel(2, 2)"
   ]
  },
  {
   "cell_type": "markdown",
   "id": "2217e6f6",
   "metadata": {},
   "source": [
    " #### Question 2: Find pathways from (0,0) to (n, k) in a grid given that you can only move right or down?"
   ]
  },
  {
   "cell_type": "code",
   "execution_count": 29,
   "id": "4a3cc749",
   "metadata": {},
   "outputs": [
    {
     "name": "stdout",
     "output_type": "stream",
     "text": [
      "VVHHH\n",
      "VHVHH\n",
      "VHHVH\n",
      "VHHHV\n",
      "HVVHH\n",
      "HVHVH\n",
      "HVHHV\n",
      "HHVVH\n",
      "HHVHV\n",
      "HHHVV\n"
     ]
    }
   ],
   "source": [
    "def travel(n, k, path):\n",
    "    \n",
    "    if (n == 0) & (k == 0):\n",
    "        print(path)\n",
    "        return\n",
    "\n",
    "    if n > 0:\n",
    "        travel(n-1, k, path + 'V')\n",
    "    if k > 0:\n",
    "        travel(n, k-1, path + 'H')\n",
    "        \n",
    " \n",
    "\n",
    "travel(2, 3, \"\")"
   ]
  },
  {
   "cell_type": "markdown",
   "id": "16237275",
   "metadata": {},
   "source": [
    " #### Question 3: How many pathways from (0,0) to (n, k) in a grid given that you can only move right, down or in diagonal? "
   ]
  },
  {
   "cell_type": "code",
   "execution_count": 23,
   "id": "b6c45243",
   "metadata": {},
   "outputs": [
    {
     "data": {
      "text/plain": [
       "13"
      ]
     },
     "execution_count": 23,
     "metadata": {},
     "output_type": "execute_result"
    }
   ],
   "source": [
    "def travel(n, k):\n",
    "    \n",
    "    if (n == 0)  | (k == 0):\n",
    "        return 1\n",
    "\n",
    "    down = travel(n-1, k)\n",
    "    right = travel(n, k-1)\n",
    "    diag = travel(n-1, k-1)\n",
    "        \n",
    "    return down + right + diag\n",
    " \n",
    "\n",
    "travel(2, 2)"
   ]
  },
  {
   "cell_type": "markdown",
   "id": "0b46f062",
   "metadata": {},
   "source": [
    "#### Question 4: Find pathways from (0,0) to (n, k) in a grid given that you can only move right, down or in a diagonal?"
   ]
  },
  {
   "cell_type": "code",
   "execution_count": 27,
   "id": "1be71718",
   "metadata": {},
   "outputs": [
    {
     "name": "stdout",
     "output_type": "stream",
     "text": [
      "VVHH\n",
      "VHVH\n",
      "VHHV\n",
      "VHD\n",
      "VDH\n",
      "HVVH\n",
      "HVHV\n",
      "HVD\n",
      "HHVV\n",
      "HDV\n",
      "DVH\n",
      "DHV\n",
      "DD\n"
     ]
    }
   ],
   "source": [
    "def travel(n, k, path):\n",
    "    \n",
    "    if (n == 0) & (k == 0):\n",
    "        print(path)\n",
    "        return\n",
    "\n",
    "    if n > 0:\n",
    "        travel(n-1, k, path + 'V')\n",
    "    if k > 0:\n",
    "        travel(n, k-1, path + 'H')\n",
    "    if ((n > 0) & (k > 0)):\n",
    "        travel(n-1, k-1, path + 'D')\n",
    "        \n",
    " \n",
    "\n",
    "travel(2, 2, \"\")"
   ]
  },
  {
   "cell_type": "markdown",
   "id": "c85dcd4c",
   "metadata": {},
   "source": [
    "#### How many pathways from (0, 0) to (n, k) in a grid given that you can move up, down, left and right? "
   ]
  },
  {
   "cell_type": "code",
   "execution_count": 46,
   "id": "4037332f",
   "metadata": {},
   "outputs": [
    {
     "data": {
      "text/plain": [
       "12"
      ]
     },
     "execution_count": 46,
     "metadata": {},
     "output_type": "execute_result"
    }
   ],
   "source": [
    "def travel(mat, i, j):\n",
    "    if (i == len(mat)-1)  & (j == len(mat[0])-1):\n",
    "        return 1\n",
    "    if mat[i][j] == 0:\n",
    "        return 0\n",
    "    mat[i][j] = 0 # So that we don't travel back the cell already traversed\n",
    "    up, down, right, left = 0, 0, 0, 0\n",
    "    if (i < len(mat)-1):\n",
    "        down = travel(mat, i+1, j)\n",
    "    if (j < len(mat[0])-1):\n",
    "        right = travel(mat, i, j+1)\n",
    "    if (i > 0):\n",
    "        up = travel(mat, i-1, j)\n",
    "    if (j > 0):\n",
    "        left = travel(mat, i, j-1)\n",
    "    mat[i][j] = 1 # This is backtracking - reversing the changes we made\n",
    "    return down + right + up + left\n",
    "\n",
    "mat = [[1, 1, 1], [1, 1, 1], [1, 1, 1]]\n",
    "travel(mat, 0, 0)"
   ]
  },
  {
   "cell_type": "code",
   "execution_count": null,
   "id": "611e179e",
   "metadata": {},
   "outputs": [],
   "source": []
  }
 ],
 "metadata": {
  "kernelspec": {
   "display_name": "Python 3",
   "language": "python",
   "name": "python3"
  },
  "language_info": {
   "codemirror_mode": {
    "name": "ipython",
    "version": 3
   },
   "file_extension": ".py",
   "mimetype": "text/x-python",
   "name": "python",
   "nbconvert_exporter": "python",
   "pygments_lexer": "ipython3",
   "version": "3.9.5"
  }
 },
 "nbformat": 4,
 "nbformat_minor": 5
}
