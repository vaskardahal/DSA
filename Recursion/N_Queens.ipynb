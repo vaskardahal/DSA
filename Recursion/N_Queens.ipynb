{
 "cells": [
  {
   "cell_type": "markdown",
   "id": "b91e6945",
   "metadata": {},
   "source": [
    "## N-Queens Problem:\n",
    "\n",
    "The objective of the problem is to find out the ways in which N Queens can be placed in a NxN chessboard such that they don't kill each other. "
   ]
  },
  {
   "cell_type": "code",
   "execution_count": 6,
   "id": "92903796",
   "metadata": {},
   "outputs": [],
   "source": [
    "class solveNQueens:\n",
    "    \n",
    "    def __init__(self, n: int): \n",
    "        self.n = n\n",
    "        self.board = [['.']*n for i in range(n)]\n",
    "        # board = [['.']*n]*n Why not to use this? \n",
    "        \n",
    "        \n",
    "    def placeQueens(self):\n",
    "        print('Start: ', self.board)\n",
    "        self.__placeQueens(0)\n",
    "        print('End: ', self.board)        \n",
    "    \n",
    "    def __placeQueens(self, row):\n",
    "        for  col in range(self.n):\n",
    "            safetyFlag = self.isSafe(row, col)\n",
    "            if safetyFlag:\n",
    "                self.board[row][col] = 'Q'\n",
    "                row += 1\n",
    "                if row == self.n:\n",
    "                    print('Bingo! ', self.board)\n",
    "                else:\n",
    "                    self.__placeQueens(row)\n",
    "                row -= 1\n",
    "                self.board[row][col] = '.'\n",
    "\n",
    "    def isSafe(self, row, col):\n",
    "        \n",
    "        i, j = row-1, col\n",
    "        while i >= 0:\n",
    "            if self.board[i][j] == 'Q':\n",
    "                return False\n",
    "            i -= 1\n",
    "\n",
    "        i, j = row-1, col-1\n",
    "        while (i >= 0) and (j >= 0):\n",
    "            if self.board[i][j] == 'Q':           \n",
    "                return False\n",
    "            i -= 1\n",
    "            j -= 1\n",
    "\n",
    "        i, j = row-1, col+1\n",
    "        while (i >= 0) and (j < len(self.board[0])):\n",
    "            if self.board[i][j] == 'Q':\n",
    "                return False\n",
    "            i -= 1\n",
    "            j += 1\n",
    "\n",
    "        return True\n",
    "                \n",
    "        "
   ]
  },
  {
   "cell_type": "code",
   "execution_count": 7,
   "id": "a819b8fa",
   "metadata": {},
   "outputs": [
    {
     "name": "stdout",
     "output_type": "stream",
     "text": [
      "Start:  [['.', '.', '.', '.', '.'], ['.', '.', '.', '.', '.'], ['.', '.', '.', '.', '.'], ['.', '.', '.', '.', '.'], ['.', '.', '.', '.', '.']]\n",
      "Bingo!  [['Q', '.', '.', '.', '.'], ['.', '.', 'Q', '.', '.'], ['.', '.', '.', '.', 'Q'], ['.', 'Q', '.', '.', '.'], ['.', '.', '.', 'Q', '.']]\n",
      "Bingo!  [['Q', '.', '.', '.', '.'], ['.', '.', '.', 'Q', '.'], ['.', 'Q', '.', '.', '.'], ['.', '.', '.', '.', 'Q'], ['.', '.', 'Q', '.', '.']]\n",
      "Bingo!  [['.', 'Q', '.', '.', '.'], ['.', '.', '.', 'Q', '.'], ['Q', '.', '.', '.', '.'], ['.', '.', 'Q', '.', '.'], ['.', '.', '.', '.', 'Q']]\n",
      "Bingo!  [['.', 'Q', '.', '.', '.'], ['.', '.', '.', '.', 'Q'], ['.', '.', 'Q', '.', '.'], ['Q', '.', '.', '.', '.'], ['.', '.', '.', 'Q', '.']]\n",
      "Bingo!  [['.', '.', 'Q', '.', '.'], ['Q', '.', '.', '.', '.'], ['.', '.', '.', 'Q', '.'], ['.', 'Q', '.', '.', '.'], ['.', '.', '.', '.', 'Q']]\n",
      "Bingo!  [['.', '.', 'Q', '.', '.'], ['.', '.', '.', '.', 'Q'], ['.', 'Q', '.', '.', '.'], ['.', '.', '.', 'Q', '.'], ['Q', '.', '.', '.', '.']]\n",
      "Bingo!  [['.', '.', '.', 'Q', '.'], ['Q', '.', '.', '.', '.'], ['.', '.', 'Q', '.', '.'], ['.', '.', '.', '.', 'Q'], ['.', 'Q', '.', '.', '.']]\n",
      "Bingo!  [['.', '.', '.', 'Q', '.'], ['.', 'Q', '.', '.', '.'], ['.', '.', '.', '.', 'Q'], ['.', '.', 'Q', '.', '.'], ['Q', '.', '.', '.', '.']]\n",
      "Bingo!  [['.', '.', '.', '.', 'Q'], ['.', 'Q', '.', '.', '.'], ['.', '.', '.', 'Q', '.'], ['Q', '.', '.', '.', '.'], ['.', '.', 'Q', '.', '.']]\n",
      "Bingo!  [['.', '.', '.', '.', 'Q'], ['.', '.', 'Q', '.', '.'], ['Q', '.', '.', '.', '.'], ['.', '.', '.', 'Q', '.'], ['.', 'Q', '.', '.', '.']]\n",
      "End:  [['.', '.', '.', '.', '.'], ['.', '.', '.', '.', '.'], ['.', '.', '.', '.', '.'], ['.', '.', '.', '.', '.'], ['.', '.', '.', '.', '.']]\n"
     ]
    }
   ],
   "source": [
    "nqueens = solveNQueens(5)\n",
    "nqueens.placeQueens()"
   ]
  },
  {
   "cell_type": "markdown",
   "id": "c20dbad7",
   "metadata": {},
   "source": [
    "### Why not to use [['.']\\*n]\\*n ?"
   ]
  },
  {
   "cell_type": "code",
   "execution_count": 25,
   "id": "16790135",
   "metadata": {},
   "outputs": [
    {
     "name": "stdout",
     "output_type": "stream",
     "text": [
      "Row 0: 0x7f4af0ad9b40\n",
      "Row 1: 0x7f4af0ad9b40\n",
      "Row 2: 0x7f4af0ad9b40\n",
      "Row 3: 0x7f4af0ad9b40\n"
     ]
    }
   ],
   "source": [
    "n = 4\n",
    "board1 = [['.']*n]*n\n",
    "for i, row in enumerate(board1):\n",
    "    print(f'Row {i}: {hex(id(row))}')"
   ]
  },
  {
   "cell_type": "code",
   "execution_count": 26,
   "id": "80cd2c66",
   "metadata": {},
   "outputs": [
    {
     "name": "stdout",
     "output_type": "stream",
     "text": [
      "Row 0: 0x7f4af0ae4e80\n",
      "Row 1: 0x7f4af0ae52c0\n",
      "Row 2: 0x7f4af0ad99c0\n",
      "Row 3: 0x7f4af0ae5100\n"
     ]
    }
   ],
   "source": [
    "n = 4\n",
    "board2 = [['.']*n for i in range(n)]\n",
    "for i, row in enumerate(board2):\n",
    "    print(f'Row {i}: {hex(id(row))}')"
   ]
  },
  {
   "cell_type": "code",
   "execution_count": null,
   "id": "5965255b",
   "metadata": {},
   "outputs": [],
   "source": []
  }
 ],
 "metadata": {
  "kernelspec": {
   "display_name": "Python 3",
   "language": "python",
   "name": "python3"
  },
  "language_info": {
   "codemirror_mode": {
    "name": "ipython",
    "version": 3
   },
   "file_extension": ".py",
   "mimetype": "text/x-python",
   "name": "python",
   "nbconvert_exporter": "python",
   "pygments_lexer": "ipython3",
   "version": "3.9.5"
  }
 },
 "nbformat": 4,
 "nbformat_minor": 5
}
