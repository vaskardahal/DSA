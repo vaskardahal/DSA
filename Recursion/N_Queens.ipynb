{
 "cells": [
  {
   "cell_type": "code",
   "execution_count": 41,
   "id": "c57d9e82",
   "metadata": {},
   "outputs": [
    {
     "name": "stdout",
     "output_type": "stream",
     "text": [
      "Start:  [['.', '.', '.', '.', '.'], ['.', '.', '.', '.', '.'], ['.', '.', '.', '.', '.'], ['.', '.', '.', '.', '.'], ['.', '.', '.', '.', '.']]\n",
      "Bingo!  [['Q', '.', '.', '.', '.'], ['.', '.', 'Q', '.', '.'], ['.', '.', '.', '.', 'Q'], ['.', 'Q', '.', '.', '.'], ['.', '.', '.', 'Q', '.']]\n",
      "Bingo!  [['Q', '.', '.', '.', '.'], ['.', '.', '.', 'Q', '.'], ['.', 'Q', '.', '.', '.'], ['.', '.', '.', '.', 'Q'], ['.', '.', 'Q', '.', '.']]\n",
      "Bingo!  [['.', 'Q', '.', '.', '.'], ['.', '.', '.', 'Q', '.'], ['Q', '.', '.', '.', '.'], ['.', '.', 'Q', '.', '.'], ['.', '.', '.', '.', 'Q']]\n",
      "Bingo!  [['.', 'Q', '.', '.', '.'], ['.', '.', '.', '.', 'Q'], ['.', '.', 'Q', '.', '.'], ['Q', '.', '.', '.', '.'], ['.', '.', '.', 'Q', '.']]\n",
      "Bingo!  [['.', '.', 'Q', '.', '.'], ['Q', '.', '.', '.', '.'], ['.', '.', '.', 'Q', '.'], ['.', 'Q', '.', '.', '.'], ['.', '.', '.', '.', 'Q']]\n",
      "Bingo!  [['.', '.', 'Q', '.', '.'], ['.', '.', '.', '.', 'Q'], ['.', 'Q', '.', '.', '.'], ['.', '.', '.', 'Q', '.'], ['Q', '.', '.', '.', '.']]\n",
      "Bingo!  [['.', '.', '.', 'Q', '.'], ['Q', '.', '.', '.', '.'], ['.', '.', 'Q', '.', '.'], ['.', '.', '.', '.', 'Q'], ['.', 'Q', '.', '.', '.']]\n",
      "Bingo!  [['.', '.', '.', 'Q', '.'], ['.', 'Q', '.', '.', '.'], ['.', '.', '.', '.', 'Q'], ['.', '.', 'Q', '.', '.'], ['Q', '.', '.', '.', '.']]\n",
      "Bingo!  [['.', '.', '.', '.', 'Q'], ['.', 'Q', '.', '.', '.'], ['.', '.', '.', 'Q', '.'], ['Q', '.', '.', '.', '.'], ['.', '.', 'Q', '.', '.']]\n",
      "Bingo!  [['.', '.', '.', '.', 'Q'], ['.', '.', 'Q', '.', '.'], ['Q', '.', '.', '.', '.'], ['.', '.', '.', 'Q', '.'], ['.', 'Q', '.', '.', '.']]\n",
      "End:  [['.', '.', '.', '.', '.'], ['.', '.', '.', '.', '.'], ['.', '.', '.', '.', '.'], ['.', '.', '.', '.', '.'], ['.', '.', '.', '.', '.']]\n"
     ]
    }
   ],
   "source": [
    "def isSafe(board, row, col):\n",
    "    i, j = row-1, col\n",
    "    while i >= 0:\n",
    "        if board[i][j] == 'Q':\n",
    "            return False\n",
    "        i -= 1\n",
    "        \n",
    "    i, j = row-1, col-1\n",
    "    while (i >= 0) and (j >= 0):\n",
    "        if board[i][j] == 'Q':           \n",
    "            return False\n",
    "        i -= 1\n",
    "        j -= 1\n",
    "    \n",
    "    i, j = row-1, col+1\n",
    "    while (i >= 0) and (j < len(board[0])):\n",
    "        if board[i][j] == 'Q':\n",
    "            return False\n",
    "        i -= 1\n",
    "        j += 1\n",
    "        \n",
    "    return True\n",
    "\n",
    "def placeQueens(board, n, row):\n",
    "    for  col in range(n):\n",
    "        safetyFlag = isSafe(board, row, col)\n",
    "        if safetyFlag:\n",
    "            board[row][col] = 'Q'\n",
    "            row += 1\n",
    "            if row == n:\n",
    "                print('Bingo! ', board)\n",
    "            else:\n",
    "                placeQueens(board, n, row)\n",
    "            row -= 1\n",
    "            board[row][col] = '.'\n",
    "        \n",
    "\n",
    "def solveNQueens(n: int):\n",
    "    solutions = []\n",
    "    # board = [['.']*n]*n Why not to use this? \n",
    "    board = []\n",
    "    for i in range(n):\n",
    "        row = []\n",
    "        for j in range(n):\n",
    "            row.append('.')\n",
    "        board.append(row)\n",
    "        \n",
    "    print('Start: ', board)\n",
    "    placeQueens(board, n, 0)\n",
    "    print('End: ', board)\n",
    "    \n",
    "               \n",
    "    \n",
    "solveNQueens(5)"
   ]
  },
  {
   "cell_type": "code",
   "execution_count": null,
   "id": "3e1ab8da",
   "metadata": {},
   "outputs": [],
   "source": []
  }
 ],
 "metadata": {
  "kernelspec": {
   "display_name": "Python 3",
   "language": "python",
   "name": "python3"
  },
  "language_info": {
   "codemirror_mode": {
    "name": "ipython",
    "version": 3
   },
   "file_extension": ".py",
   "mimetype": "text/x-python",
   "name": "python",
   "nbconvert_exporter": "python",
   "pygments_lexer": "ipython3",
   "version": "3.9.5"
  }
 },
 "nbformat": 4,
 "nbformat_minor": 5
}
