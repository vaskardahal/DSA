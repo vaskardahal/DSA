{
 "cells": [
  {
   "cell_type": "code",
   "execution_count": 7,
   "id": "e4fce2b7",
   "metadata": {},
   "outputs": [
    {
     "name": "stdout",
     "output_type": "stream",
     "text": [
      "Fibonacci value at 10th position: 89\n",
      "{2: 2, 3: 3, 4: 5, 5: 8, 6: 13, 7: 21, 8: 34, 9: 55, 10: 89}\n"
     ]
    }
   ],
   "source": [
    "def fibonacci(n, table):\n",
    "    if (n == 0) or (n==1):\n",
    "        return 1\n",
    "    \n",
    "    if n in table.keys():\n",
    "        return table[n]\n",
    "    else:\n",
    "        value = fibonacci(n-1, table) + fibonacci(n-2, table)\n",
    "        table[n] = value\n",
    "        return value\n",
    "\n",
    "n = 10\n",
    "memo_table = {}\n",
    "solution = fibonacci(n, memo_table)\n",
    "print(f\"Fibonacci value at {n}th position: {solution}\")\n",
    "print(memo_table)\n",
    "        "
   ]
  }
 ],
 "metadata": {
  "kernelspec": {
   "display_name": "Python 3",
   "language": "python",
   "name": "python3"
  },
  "language_info": {
   "codemirror_mode": {
    "name": "ipython",
    "version": 3
   },
   "file_extension": ".py",
   "mimetype": "text/x-python",
   "name": "python",
   "nbconvert_exporter": "python",
   "pygments_lexer": "ipython3",
   "version": "3.9.5"
  }
 },
 "nbformat": 4,
 "nbformat_minor": 5
}
