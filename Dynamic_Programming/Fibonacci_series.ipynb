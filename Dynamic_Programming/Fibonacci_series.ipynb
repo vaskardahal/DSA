{
 "cells": [
  {
   "cell_type": "markdown",
   "id": "27e41b36",
   "metadata": {},
   "source": [
    "## Top down approach:\n",
    "\n",
    "Top down approach uses memoization. \n",
    "\n",
    "Time complexity: O(n)\n",
    "\n",
    "Space complexity: O(n)"
   ]
  },
  {
   "cell_type": "code",
   "execution_count": 29,
   "id": "1084aaef",
   "metadata": {},
   "outputs": [
    {
     "name": "stdout",
     "output_type": "stream",
     "text": [
      "Fibonacci value at 12th position: 144\n",
      "{1: 1, 0: 0, 2: 1, 3: 2, 4: 3, 5: 5, 6: 8, 7: 13, 8: 21, 9: 34, 10: 55, 11: 89, 12: 144}\n"
     ]
    }
   ],
   "source": [
    "def fibonacci_td(n, table):\n",
    "    if (n == 0) or (n==1):\n",
    "        table[n] = n\n",
    "        return n\n",
    "    \n",
    "    if n in table.keys():\n",
    "        return table[n]\n",
    "    else:\n",
    "        table[n] = fibonacci_td(n-1, table) + fibonacci_td(n-2, table)\n",
    "        return table[n]\n",
    "\n",
    "n = 12\n",
    "memo_table = {}\n",
    "solution = fibonacci_td(n, memo_table)\n",
    "print(f\"Fibonacci value at {n}th position: {solution}\")\n",
    "print(memo_table)\n",
    "        "
   ]
  },
  {
   "cell_type": "markdown",
   "id": "a3846c2c",
   "metadata": {},
   "source": [
    "## Bottom up approach:\n",
    "\n",
    "Bottom up approach uses a method called Tablulation. \n",
    "\n",
    "Time complexity: O(n)\n",
    "\n",
    "Space complexity: O(n)"
   ]
  },
  {
   "cell_type": "code",
   "execution_count": 30,
   "id": "3f8e5f2c",
   "metadata": {},
   "outputs": [
    {
     "name": "stdout",
     "output_type": "stream",
     "text": [
      "Fibonacci value at 12th position: 144\n",
      "{0: 0, 1: 1, 2: 1, 3: 2, 4: 3, 5: 5, 6: 8, 7: 13, 8: 21, 9: 34, 10: 55, 11: 89, 12: 144}\n"
     ]
    }
   ],
   "source": [
    "def fibonacci_bu(n, table):\n",
    "    table[0] = 0\n",
    "    table[1] = 1\n",
    "    for i in range(2, n+1):\n",
    "        table[i] = table[i-1] + table[i-2]\n",
    "    return table[n]\n",
    "\n",
    "n = 12\n",
    "table = {}\n",
    "solution = fibonacci_bu(n, table)\n",
    "print(f\"Fibonacci value at {n}th position: {solution}\")\n",
    "print(table)"
   ]
  },
  {
   "cell_type": "markdown",
   "id": "5ddaa9b4",
   "metadata": {},
   "source": [
    "## Constant space Bottom up approach:\n",
    "\n",
    "Since value at each position of the series is dependent on the values at previous two postions, there is no reason to keep storing all the values in a series. We can just store the last most recent two values in the series, thereby allowing us to optimize the space usage. "
   ]
  },
  {
   "cell_type": "code",
   "execution_count": 36,
   "id": "e166227c",
   "metadata": {},
   "outputs": [
    {
     "name": "stdout",
     "output_type": "stream",
     "text": [
      "Fibonacci value at 12th position: 144\n",
      "{}\n"
     ]
    }
   ],
   "source": [
    "def fibonacci_bu(n):\n",
    "    a, b = 0, 1\n",
    "    for i in range(2, n+1):\n",
    "        a, b = b, a + b\n",
    "    return b\n",
    "\n",
    "n = 12\n",
    "solution = fibonacci_bu(n)\n",
    "print(f\"Fibonacci value at {n}th position: {solution}\")\n",
    "print(table)"
   ]
  }
 ],
 "metadata": {
  "kernelspec": {
   "display_name": "Python 3",
   "language": "python",
   "name": "python3"
  },
  "language_info": {
   "codemirror_mode": {
    "name": "ipython",
    "version": 3
   },
   "file_extension": ".py",
   "mimetype": "text/x-python",
   "name": "python",
   "nbconvert_exporter": "python",
   "pygments_lexer": "ipython3",
   "version": "3.9.5"
  }
 },
 "nbformat": 4,
 "nbformat_minor": 5
}
